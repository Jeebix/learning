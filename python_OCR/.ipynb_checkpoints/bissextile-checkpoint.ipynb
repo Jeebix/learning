{
 "cells": [
  {
   "cell_type": "code",
   "execution_count": 1,
   "metadata": {},
   "outputs": [
    {
     "name": "stdout",
     "output_type": "stream",
     "text": [
      "Saisissez une année : 2015\n",
      "L'année saisie n'est pas bissextile.\n"
     ]
    },
    {
     "data": {
      "text/plain": [
       "32512"
      ]
     },
     "execution_count": 1,
     "metadata": {},
     "output_type": "execute_result"
    }
   ],
   "source": [
    "# -*-coding:utf-8 -*\n",
    "\n",
    "import os # module os qui dispose de variables\n",
    "          # et de fonctions utiles pour dialoguer\n",
    "          # avec votre système d'exploitation\n",
    "\n",
    "# Programme testant si une année, saisie par l'utilisateur, est bissextile ou non\n",
    "\n",
    "annee = input(\"Saisissez une année : \") # on attends que l'utilisateur fournisse l'année\n",
    "\n",
    "annee = int(annee) # risque d'erreur si l'utilisateur n'a pas saisi un nombre\n",
    "\n",
    "if annee % 400 == 0 or (annee % 4 == 0 and annee % 100 != 0):\n",
    "    print(\"L'année saisie est bissextile.\")\n",
    "else:\n",
    "    print(\"L'année saisie n'est pas bissextile.\")\n",
    "    \n",
    "# On met le programme en pause pour éviter qu'il ne se referme\n",
    "os.system(\"pause\")"
   ]
  },
  {
   "cell_type": "code",
   "execution_count": null,
   "metadata": {},
   "outputs": [],
   "source": []
  }
 ],
 "metadata": {
  "kernelspec": {
   "display_name": "Python 3",
   "language": "python",
   "name": "python3"
  },
  "language_info": {
   "codemirror_mode": {
    "name": "ipython",
    "version": 3
   },
   "file_extension": ".py",
   "mimetype": "text/x-python",
   "name": "python",
   "nbconvert_exporter": "python",
   "pygments_lexer": "ipython3",
   "version": "3.6.4"
  }
 },
 "nbformat": 4,
 "nbformat_minor": 2
}
