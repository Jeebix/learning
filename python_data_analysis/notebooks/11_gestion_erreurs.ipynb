{
 "cells": [
  {
   "cell_type": "markdown",
   "metadata": {},
   "source": [
    "# Gestion des erreurs\n",
    "## Objectifs et dataset\n",
    "### Objectifs\n",
    "    • Apprendre à rouver les valeurs uniques d'un dataset\n",
    "    • Gérer les valeurs manquantes d'un dataset\n",
    "    • Utiliser le bloc try/except pour éviter les erreurs\n",
    "    • Extraire une année d'une date, la convertir en 'entier' et ajouter la colomne des années au dataset\n",
    "    • dataset: membres historiques du congrès américain"
   ]
  },
  {
   "cell_type": "markdown",
   "metadata": {},
   "source": [
    "## Sets"
   ]
  },
  {
   "cell_type": "code",
   "execution_count": 2,
   "metadata": {},
   "outputs": [
    {
     "name": "stdout",
     "output_type": "stream",
     "text": [
      "{'Tigre', 'Chat', 'Chien'}\n"
     ]
    }
   ],
   "source": [
    "# set() renvoi à partir d'une liste ordonnée un set des éléments uniques\n",
    "\n",
    "animals = [\"Chien\", \"Tigre\", \"Chat\", \"Chat\", \"Chien\", \"Chien\"]\n",
    "unique_animals = set(animals)\n",
    "print(unique_animals)"
   ]
  },
  {
   "cell_type": "code",
   "execution_count": 4,
   "metadata": {},
   "outputs": [
    {
     "name": "stdout",
     "output_type": "stream",
     "text": [
      "{'Tigre', 'Tortue', 'Chat', 'Chien'}\n"
     ]
    }
   ],
   "source": [
    "# add() ajoute élément à un set\n",
    "\n",
    "unique_animals.add(\"Tortue\")\n",
    "print(unique_animals)"
   ]
  },
  {
   "cell_type": "code",
   "execution_count": 5,
   "metadata": {},
   "outputs": [
    {
     "name": "stdout",
     "output_type": "stream",
     "text": [
      "{'Tigre', 'Tortue', 'Chien'}\n"
     ]
    }
   ],
   "source": [
    "# remove() retire un élément à un set\n",
    "\n",
    "unique_animals.remove(\"Chat\")\n",
    "print(unique_animals)"
   ]
  },
  {
   "cell_type": "code",
   "execution_count": 6,
   "metadata": {},
   "outputs": [
    {
     "name": "stdout",
     "output_type": "stream",
     "text": [
      "['Tigre', 'Tortue', 'Chien']\n"
     ]
    }
   ],
   "source": [
    "# list() convertit en liste\n",
    "\n",
    "unique_animals = list(unique_animals)\n",
    "print(unique_animals)"
   ]
  },
  {
   "cell_type": "markdown",
   "metadata": {},
   "source": [
    "## Training"
   ]
  },
  {
   "cell_type": "code",
   "execution_count": 67,
   "metadata": {},
   "outputs": [
    {
     "name": "stdout",
     "output_type": "stream",
     "text": [
      "[['last_name', 'first_name', 'birthday', 'gender', 'type', 'state', 'party'], ['Bassett', 'Richard', '1745-04-02', 'M', 'sen', 'DE', 'Anti-Administration'], ['Bland', 'Theodorick', '1742-03-21', '', 'rep', 'VA', ''], ['Burke', 'Aedanus', '1743-06-16', '', 'rep', 'SC', ''], ['Carroll', 'Daniel', '1730-07-22', 'M', 'rep', 'MD', ''], ['Clymer', 'George', '1739-03-16', 'M', 'rep', 'PA', ''], ['Contee', 'Benjamin', '', 'M', 'rep', 'MD', ''], ['Dalton', 'Tristram', '1738-05-28', '', 'sen', 'MA', 'Pro-Administration'], ['Elmer', 'Jonathan', '1745-11-29', 'M', 'sen', 'NJ', 'Pro-Administration'], ['Few', 'William', '1748-06-08', 'M', 'sen', 'GA', 'Anti-Administration']]\n",
      "{'', 'F', 'M', 'gender'}\n"
     ]
    }
   ],
   "source": [
    "import csv\n",
    "\n",
    "f = open(\"../data/legislators.csv\")\n",
    "legislators = list(csv.reader(f))\n",
    "\n",
    "print(legislators[:10])\n",
    "\n",
    "gender = []\n",
    "for row in legislators:\n",
    "    gender.append(row[3])\n",
    "    \n",
    "gender = set(gender)\n",
    "\n",
    "print(gender)"
   ]
  },
  {
   "cell_type": "markdown",
   "metadata": {},
   "source": [
    "## Exploration du dataset"
   ]
  },
  {
   "cell_type": "code",
   "execution_count": 11,
   "metadata": {},
   "outputs": [],
   "source": [
    "# Chercher champs manquants ou vides (NA), valeurs incohérentes, récurrences (tendances) "
   ]
  },
  {
   "cell_type": "code",
   "execution_count": 38,
   "metadata": {},
   "outputs": [
    {
     "name": "stdout",
     "output_type": "stream",
     "text": [
      "{'', 'Anti Jacksonian', 'Free Soil', 'Ind. Republican-Democrat', 'States Rights', 'Prohibitionist', 'Socialist', 'Readjuster', 'Whig', 'Nonpartisan', 'Crawford Republican', 'Unconditional Unionist', 'Anti-Jacksonian', 'Pro-Administration', 'Ind. Democrat', 'Adams', 'Republican-Conservative', 'Ind. Whig', 'Ind. Republican', 'Jackson Republican', 'Unknown', 'Popular Democrat', 'Federalist', 'Anti-Administration', 'Conservative Republican', 'Union', 'Union Democrat', 'party', 'Anti Jackson', 'Independent', 'Republican', 'American Labor', 'Constitutional Unionist', 'Democratic and Union Labor', 'Nullifier', 'Jackson', 'Independent Democrat', 'Conservative', 'Law and Order', 'New Progressive', 'Anti Masonic', 'Democrat', 'Democrat-Liberal', 'Liberal Republican', 'Unionist', 'Readjuster Democrat', 'Anti-Lecompton Democrat', 'Progressive', 'Progressive Republican', 'Populist', 'American', 'Adams Democrat', 'Farmer-Labor', 'Jacksonian', 'Liberty', 'Union Labor', 'Silver Republican', 'Coalitionist', 'Democratic Republican', 'National Greenbacker', 'Free Silver'}\n"
     ]
    },
    {
     "data": {
      "text/plain": [
       "{'',\n",
       " 'Adams',\n",
       " 'Adams Democrat',\n",
       " 'American',\n",
       " 'American Labor',\n",
       " 'Anti Jackson',\n",
       " 'Anti Jacksonian',\n",
       " 'Anti Masonic',\n",
       " 'Anti-Administration',\n",
       " 'Anti-Jacksonian',\n",
       " 'Anti-Lecompton Democrat',\n",
       " 'Coalitionist',\n",
       " 'Conservative',\n",
       " 'Conservative Republican',\n",
       " 'Constitutional Unionist',\n",
       " 'Crawford Republican',\n",
       " 'Democrat',\n",
       " 'Democrat-Liberal',\n",
       " 'Democratic Republican',\n",
       " 'Democratic and Union Labor',\n",
       " 'Farmer-Labor',\n",
       " 'Federalist',\n",
       " 'Free Silver',\n",
       " 'Free Soil',\n",
       " 'Ind. Democrat',\n",
       " 'Ind. Republican',\n",
       " 'Ind. Republican-Democrat',\n",
       " 'Ind. Whig',\n",
       " 'Independent',\n",
       " 'Independent Democrat',\n",
       " 'Jackson',\n",
       " 'Jackson Republican',\n",
       " 'Jacksonian',\n",
       " 'Law and Order',\n",
       " 'Liberal Republican',\n",
       " 'Liberty',\n",
       " 'National Greenbacker',\n",
       " 'New Progressive',\n",
       " 'Nonpartisan',\n",
       " 'Nullifier',\n",
       " 'Popular Democrat',\n",
       " 'Populist',\n",
       " 'Pro-Administration',\n",
       " 'Progressive',\n",
       " 'Progressive Republican',\n",
       " 'Prohibitionist',\n",
       " 'Readjuster',\n",
       " 'Readjuster Democrat',\n",
       " 'Republican',\n",
       " 'Republican-Conservative',\n",
       " 'Silver Republican',\n",
       " 'Socialist',\n",
       " 'States Rights',\n",
       " 'Unconditional Unionist',\n",
       " 'Union',\n",
       " 'Union Democrat',\n",
       " 'Union Labor',\n",
       " 'Unionist',\n",
       " 'Unknown',\n",
       " 'Whig',\n",
       " 'party'}"
      ]
     },
     "execution_count": 38,
     "metadata": {},
     "output_type": "execute_result"
    }
   ],
   "source": [
    "party = []\n",
    "\n",
    "for item in legislators:\n",
    "    party.append(item[6])\n",
    "    \n",
    "party = set(party)\n",
    "print(party)\n",
    "set(party)"
   ]
  },
  {
   "cell_type": "markdown",
   "metadata": {},
   "source": [
    "## Valeurs manquantes"
   ]
  },
  {
   "cell_type": "code",
   "execution_count": 39,
   "metadata": {},
   "outputs": [],
   "source": [
    "# Remplacer données manquantes par valeur calculée (ici, \"aucun parti\")\n",
    "\n",
    "for row in legislators:\n",
    "    if row[6] == '':\n",
    "        row[6] = \"No party\""
   ]
  },
  {
   "cell_type": "code",
   "execution_count": 40,
   "metadata": {},
   "outputs": [
    {
     "data": {
      "text/plain": [
       "{'Adams',\n",
       " 'Adams Democrat',\n",
       " 'American',\n",
       " 'American Labor',\n",
       " 'Anti Jackson',\n",
       " 'Anti Jacksonian',\n",
       " 'Anti Masonic',\n",
       " 'Anti-Administration',\n",
       " 'Anti-Jacksonian',\n",
       " 'Anti-Lecompton Democrat',\n",
       " 'Coalitionist',\n",
       " 'Conservative',\n",
       " 'Conservative Republican',\n",
       " 'Constitutional Unionist',\n",
       " 'Crawford Republican',\n",
       " 'Democrat',\n",
       " 'Democrat-Liberal',\n",
       " 'Democratic Republican',\n",
       " 'Democratic and Union Labor',\n",
       " 'Farmer-Labor',\n",
       " 'Federalist',\n",
       " 'Free Silver',\n",
       " 'Free Soil',\n",
       " 'Ind. Democrat',\n",
       " 'Ind. Republican',\n",
       " 'Ind. Republican-Democrat',\n",
       " 'Ind. Whig',\n",
       " 'Independent',\n",
       " 'Independent Democrat',\n",
       " 'Jackson',\n",
       " 'Jackson Republican',\n",
       " 'Jacksonian',\n",
       " 'Law and Order',\n",
       " 'Liberal Republican',\n",
       " 'Liberty',\n",
       " 'National Greenbacker',\n",
       " 'New Progressive',\n",
       " 'No party',\n",
       " 'Nonpartisan',\n",
       " 'Nullifier',\n",
       " 'Popular Democrat',\n",
       " 'Populist',\n",
       " 'Pro-Administration',\n",
       " 'Progressive',\n",
       " 'Progressive Republican',\n",
       " 'Prohibitionist',\n",
       " 'Readjuster',\n",
       " 'Readjuster Democrat',\n",
       " 'Republican',\n",
       " 'Republican-Conservative',\n",
       " 'Silver Republican',\n",
       " 'Socialist',\n",
       " 'States Rights',\n",
       " 'Unconditional Unionist',\n",
       " 'Union',\n",
       " 'Union Democrat',\n",
       " 'Union Labor',\n",
       " 'Unionist',\n",
       " 'Unknown',\n",
       " 'Whig',\n",
       " 'party'}"
      ]
     },
     "execution_count": 40,
     "metadata": {},
     "output_type": "execute_result"
    }
   ],
   "source": [
    "party = []\n",
    "\n",
    "for item in legislators:\n",
    "    party.append(item[6])\n",
    "    \n",
    "party = set(party)\n",
    "set(party)"
   ]
  },
  {
   "cell_type": "markdown",
   "metadata": {},
   "source": [
    "## Training"
   ]
  },
  {
   "cell_type": "code",
   "execution_count": 41,
   "metadata": {},
   "outputs": [
    {
     "name": "stdout",
     "output_type": "stream",
     "text": [
      "{'F', 'M', 'gender'}\n"
     ]
    }
   ],
   "source": [
    "for row in legislators:\n",
    "    if row[3] == '':\n",
    "        row[3] = \"M\"\n",
    "        \n",
    "gender = []\n",
    "\n",
    "for row in legislators:\n",
    "    gender.append(row[3])\n",
    "    \n",
    "gender = set(gender)\n",
    "print(gender)"
   ]
  },
  {
   "cell_type": "markdown",
   "metadata": {},
   "source": [
    "## Analyse des données de naissance"
   ]
  },
  {
   "cell_type": "code",
   "execution_count": 24,
   "metadata": {},
   "outputs": [],
   "source": [
    "date = \"1820-01-02\"\n",
    "parts = date.split('-')"
   ]
  },
  {
   "cell_type": "code",
   "execution_count": 25,
   "metadata": {},
   "outputs": [
    {
     "name": "stdout",
     "output_type": "stream",
     "text": [
      "['1820', '01', '02']\n"
     ]
    }
   ],
   "source": [
    "print(parts)"
   ]
  },
  {
   "cell_type": "code",
   "execution_count": 26,
   "metadata": {},
   "outputs": [
    {
     "name": "stdout",
     "output_type": "stream",
     "text": [
      "1820\n"
     ]
    }
   ],
   "source": [
    "print(parts[0])"
   ]
  },
  {
   "cell_type": "code",
   "execution_count": 42,
   "metadata": {},
   "outputs": [
    {
     "name": "stdout",
     "output_type": "stream",
     "text": [
      "['birthday', '1745', '1742', '1743', '1730', '1739', '', '1738', '1745', '1748']\n"
     ]
    }
   ],
   "source": [
    "birth_years = []\n",
    "\n",
    "for row in legislators:\n",
    "    year = row[2].split('-')[0]\n",
    "    birth_years.append(year)\n",
    "    \n",
    "print(birth_years[:10])"
   ]
  },
  {
   "cell_type": "markdown",
   "metadata": {},
   "source": [
    "## Bloc try / except"
   ]
  },
  {
   "cell_type": "code",
   "execution_count": 29,
   "metadata": {},
   "outputs": [
    {
     "ename": "ValueError",
     "evalue": "invalid literal for int() with base 10: ''",
     "output_type": "error",
     "traceback": [
      "\u001b[0;31m---------------------------------------------------------------------------\u001b[0m",
      "\u001b[0;31mValueError\u001b[0m                                Traceback (most recent call last)",
      "\u001b[0;32m<ipython-input-29-e4f84bb32d50>\u001b[0m in \u001b[0;36m<module>\u001b[0;34m()\u001b[0m\n\u001b[0;32m----> 1\u001b[0;31m \u001b[0mint\u001b[0m\u001b[0;34m(\u001b[0m\u001b[0;34m''\u001b[0m\u001b[0;34m)\u001b[0m\u001b[0;34m\u001b[0m\u001b[0m\n\u001b[0m",
      "\u001b[0;31mValueError\u001b[0m: invalid literal for int() with base 10: ''"
     ]
    }
   ],
   "source": [
    "int('')"
   ]
  },
  {
   "cell_type": "code",
   "execution_count": 30,
   "metadata": {},
   "outputs": [
    {
     "name": "stdout",
     "output_type": "stream",
     "text": [
      "Impossible de convertir\n"
     ]
    }
   ],
   "source": [
    "try:\n",
    "    int('')\n",
    "except Exception:\n",
    "    print(\"Impossible de convertir\")"
   ]
  },
  {
   "cell_type": "code",
   "execution_count": 32,
   "metadata": {},
   "outputs": [
    {
     "name": "stdout",
     "output_type": "stream",
     "text": [
      "<class 'ValueError'>\n",
      "invalid literal for int() with base 10: ''\n"
     ]
    }
   ],
   "source": [
    "# Python crée une instance de la classe Exception\n",
    "# classe qui a des propriétés pour déboguer des erreurs\n",
    "\n",
    "try:\n",
    "    int('')\n",
    "except Exception as exc:\n",
    "    print(type(exc))\n",
    "    print(str(exc))"
   ]
  },
  {
   "cell_type": "markdown",
   "metadata": {},
   "source": [
    "## Le mot-clé Pass"
   ]
  },
  {
   "cell_type": "code",
   "execution_count": 33,
   "metadata": {},
   "outputs": [
    {
     "name": "stdout",
     "output_type": "stream",
     "text": [
      "Il y a une erreur\n",
      "Il y a une erreur\n",
      "Il y a une erreur\n",
      "Il y a une erreur\n",
      "Il y a une erreur\n",
      "Il y a une erreur\n",
      "Il y a une erreur\n",
      "Il y a une erreur\n",
      "Il y a une erreur\n",
      "Il y a une erreur\n"
     ]
    }
   ],
   "source": [
    "# pass ignore l'erreur et continue le code\n",
    "\n",
    "numbers = [1, 2, 3, 4, 5, 6, 7, 8, 9, 10]\n",
    "\n",
    "for i in numbers:\n",
    "    try:\n",
    "        int('')\n",
    "    except Exception:\n",
    "        print(\"Il y a une erreur\")"
   ]
  },
  {
   "cell_type": "code",
   "execution_count": 35,
   "metadata": {},
   "outputs": [
    {
     "ename": "SyntaxError",
     "evalue": "unexpected EOF while parsing (<ipython-input-35-b0eb63349cdc>, line 4)",
     "output_type": "error",
     "traceback": [
      "\u001b[0;36m  File \u001b[0;32m\"<ipython-input-35-b0eb63349cdc>\"\u001b[0;36m, line \u001b[0;32m4\u001b[0m\n\u001b[0;31m    except Exception:\u001b[0m\n\u001b[0m                     ^\u001b[0m\n\u001b[0;31mSyntaxError\u001b[0m\u001b[0;31m:\u001b[0m unexpected EOF while parsing\n"
     ]
    }
   ],
   "source": [
    "for i in numbers:\n",
    "    try:\n",
    "        int('')\n",
    "    except Exception:"
   ]
  },
  {
   "cell_type": "code",
   "execution_count": 36,
   "metadata": {},
   "outputs": [],
   "source": [
    "for i in numbers:\n",
    "    try:\n",
    "        int('')\n",
    "    except Exception:\n",
    "        pass"
   ]
  },
  {
   "cell_type": "markdown",
   "metadata": {},
   "source": [
    "## Training"
   ]
  },
  {
   "cell_type": "code",
   "execution_count": 48,
   "metadata": {},
   "outputs": [
    {
     "name": "stdout",
     "output_type": "stream",
     "text": [
      "['birthday', 1745, 1742, 1743, 1730, 1739, '', 1738, 1745, 1748]\n"
     ]
    }
   ],
   "source": [
    "int_years = []\n",
    "\n",
    "for year in birth_years:\n",
    "    try:\n",
    "        year = int(year)\n",
    "    except Exception:\n",
    "        pass\n",
    "    int_years.append(year)\n",
    "    \n",
    "print(int_years[:10])"
   ]
  },
  {
   "cell_type": "markdown",
   "metadata": {},
   "source": [
    "## Convertir l'année de naissance en entier dans notre dataset"
   ]
  },
  {
   "cell_type": "code",
   "execution_count": 68,
   "metadata": {},
   "outputs": [],
   "source": [
    "for row in legislators:\n",
    "    birth_year = row[2].split('-')[0]\n",
    "    try:\n",
    "        birth_year = int(birth_year)\n",
    "    except Exception:\n",
    "        birth_year = 0\n",
    "    row.append(birth_year)\n",
    "    \n",
    "legislators[0][7] = 'birth_year'"
   ]
  },
  {
   "cell_type": "code",
   "execution_count": 69,
   "metadata": {},
   "outputs": [
    {
     "name": "stdout",
     "output_type": "stream",
     "text": [
      "[['last_name', 'first_name', 'birthday', 'gender', 'type', 'state', 'party', 'birth_year'], ['Bassett', 'Richard', '1745-04-02', 'M', 'sen', 'DE', 'Anti-Administration', 1745], ['Bland', 'Theodorick', '1742-03-21', '', 'rep', 'VA', '', 1742], ['Burke', 'Aedanus', '1743-06-16', '', 'rep', 'SC', '', 1743], ['Carroll', 'Daniel', '1730-07-22', 'M', 'rep', 'MD', '', 1730], ['Clymer', 'George', '1739-03-16', 'M', 'rep', 'PA', '', 1739], ['Contee', 'Benjamin', '', 'M', 'rep', 'MD', '', 0], ['Dalton', 'Tristram', '1738-05-28', '', 'sen', 'MA', 'Pro-Administration', 1738], ['Elmer', 'Jonathan', '1745-11-29', 'M', 'sen', 'NJ', 'Pro-Administration', 1745], ['Few', 'William', '1748-06-08', 'M', 'sen', 'GA', 'Anti-Administration', 1748]]\n"
     ]
    }
   ],
   "source": [
    "print(legislators[:10])"
   ]
  },
  {
   "cell_type": "markdown",
   "metadata": {},
   "source": [
    "## Modifier les valeurs des années"
   ]
  },
  {
   "cell_type": "code",
   "execution_count": 71,
   "metadata": {},
   "outputs": [],
   "source": [
    "last_value = 1\n",
    "\n",
    "for row in legislators:\n",
    "    if row[7] == 0:\n",
    "        row[7] = last_value\n",
    "    last_value = row[7]"
   ]
  },
  {
   "cell_type": "code",
   "execution_count": 72,
   "metadata": {},
   "outputs": [
    {
     "name": "stdout",
     "output_type": "stream",
     "text": [
      "[['last_name', 'first_name', 'birthday', 'gender', 'type', 'state', 'party', 'birth_year'], ['Bassett', 'Richard', '1745-04-02', 'M', 'sen', 'DE', 'Anti-Administration', 1745], ['Bland', 'Theodorick', '1742-03-21', '', 'rep', 'VA', '', 1742], ['Burke', 'Aedanus', '1743-06-16', '', 'rep', 'SC', '', 1743], ['Carroll', 'Daniel', '1730-07-22', 'M', 'rep', 'MD', '', 1730], ['Clymer', 'George', '1739-03-16', 'M', 'rep', 'PA', '', 1739], ['Contee', 'Benjamin', '', 'M', 'rep', 'MD', '', 1739], ['Dalton', 'Tristram', '1738-05-28', '', 'sen', 'MA', 'Pro-Administration', 1738], ['Elmer', 'Jonathan', '1745-11-29', 'M', 'sen', 'NJ', 'Pro-Administration', 1745], ['Few', 'William', '1748-06-08', 'M', 'sen', 'GA', 'Anti-Administration', 1748]]\n"
     ]
    }
   ],
   "source": [
    "print(legislators[:10])"
   ]
  }
 ],
 "metadata": {
  "kernelspec": {
   "display_name": "Python 3",
   "language": "python",
   "name": "python3"
  },
  "language_info": {
   "codemirror_mode": {
    "name": "ipython",
    "version": 3
   },
   "file_extension": ".py",
   "mimetype": "text/x-python",
   "name": "python",
   "nbconvert_exporter": "python",
   "pygments_lexer": "ipython3",
   "version": "3.6.4"
  }
 },
 "nbformat": 4,
 "nbformat_minor": 2
}
