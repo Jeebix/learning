{
 "cells": [
  {
   "cell_type": "markdown",
   "metadata": {},
   "source": [
    "# Introduction aux fonctions\n",
    "## Tokenization du vocabulaire"
   ]
  },
  {
   "cell_type": "code",
   "execution_count": 3,
   "metadata": {},
   "outputs": [],
   "source": [
    "# But : convertir texte conséquent en petits composants"
   ]
  },
  {
   "cell_type": "code",
   "execution_count": 4,
   "metadata": {},
   "outputs": [
    {
     "data": {
      "text/plain": [
       "'à afin autant automatique automatisées autres aux bien calcul ces comme complexes compression connaissance considérée danalyse dans de den densembles des dincertitude discipline disjointes domaines données elle emploie en est et extraire formes généralement généraux haute informations informatique intéressantes la lanalytique lapprentissage larges le les lextraction limitée linformation lingénierie masse mathématiques méthodes modèles modélisation moins ne notamment objectif ou particulièrement pas performance plus plusieurs possible potentiellement premier principalement probabilistes produire programmation prophétique que qui reconnaissance sadaptent science signal soit sont source sources statistique stockage techniques technologie termes théorie théories tirées traitement tri utiles visualisation wikipédia'"
      ]
     },
     "execution_count": 4,
     "metadata": {},
     "output_type": "execute_result"
    }
   ],
   "source": [
    "vocabulary = open(\"../data/dictionnaire.txt\", \"r\", encoding='utf-8').read()\n",
    "vocabulary"
   ]
  },
  {
   "cell_type": "code",
   "execution_count": 5,
   "metadata": {},
   "outputs": [
    {
     "name": "stdout",
     "output_type": "stream",
     "text": [
      "['à', 'afin', 'autant', 'automatique', 'automatisées', 'autres', 'aux', 'bien', 'calcul', 'ces']\n"
     ]
    }
   ],
   "source": [
    "tokenized_vocabulary = vocabulary.split(' ')\n",
    "\n",
    "print(tokenized_vocabulary[0:10])"
   ]
  },
  {
   "cell_type": "markdown",
   "metadata": {},
   "source": [
    "## Remplacement des caractères spéciaux"
   ]
  },
  {
   "cell_type": "code",
   "execution_count": 6,
   "metadata": {},
   "outputs": [
    {
     "name": "stdout",
     "output_type": "stream",
     "text": [
      "En termes généraux, la scence des données est l'extraction de conaissance d'ensembles de données.   \n",
      " \n",
      "Elle emploie des techniques et des théories tirées de plusieurs autres domaines plus larges des mathématiques, la statistique principalement, la téorie de l'information et la technologie de l'information, notamment le traitement de signal, des modèles probabilistes, l'apprentissage automatique, l'apprentissage statistiqe, la programmation informatique, l'ingénierie de données, la reconnaissance de formes et l'apprentissage, la visualisation, l'analytique prophétique, la modélisation d'incertitude, le stokage de données, la compression de données et le calcul à haute performance. \n",
      " \n",
      "Les méthodes qui s'adaptent aux données de masse sont particulièrement intéressantes dans la science des données, bien que la dicipline ne soit généralement pas considérée come limitée à ces données.   \n",
      " \n",
      "Le premier objectif est de produire des méthodes automatisées, autant que possible de tri et d'analyse de données de masse et de sources plus ou moins complexes ou disjointes de données, afin d'en extraire des informations utiles ou potentiellement utiles. Source Wikipédia\n"
     ]
    }
   ],
   "source": [
    "f = open(\"../data/texte.txt\", \"r\", encoding=\"utf-8\")\n",
    "text_string = f.read()\n",
    "\n",
    "print(text_string)"
   ]
  },
  {
   "cell_type": "code",
   "execution_count": 7,
   "metadata": {},
   "outputs": [
    {
     "name": "stdout",
     "output_type": "stream",
     "text": [
      "Python est cool\n"
     ]
    }
   ],
   "source": [
    "# replace(chaîne à supprimer, chaîne de remplacement)\n",
    "\n",
    "text = \"Python,est,cool\"\n",
    "\n",
    "text = text.replace(\",\", \" \")\n",
    "\n",
    "print(text)"
   ]
  },
  {
   "cell_type": "code",
   "execution_count": 8,
   "metadata": {},
   "outputs": [
    {
     "name": "stdout",
     "output_type": "stream",
     "text": [
      "En termes généraux la scence des données est lextraction de conaissance densembles de données    Elle emploie des techniques et des théories tirées de plusieurs autres domaines plus larges des mathématiques la statistique principalement la téorie de linformation et la technologie de linformation notamment le traitement de signal des modèles probabilistes lapprentissage automatique lapprentissage statistiqe la programmation informatique lingénierie de données la reconnaissance de formes et lapprentissage la visualisation lanalytique prophétique la modélisation dincertitude le stokage de données la compression de données et le calcul à haute performance  Les méthodes qui sadaptent aux données de masse sont particulièrement intéressantes dans la science des données bien que la dicipline ne soit généralement pas considérée come limitée à ces données    Le premier objectif est de produire des méthodes automatisées autant que possible de tri et danalyse de données de masse et de sources plus ou moins complexes ou disjointes de données afin den extraire des informations utiles ou potentiellement utiles Source Wikipédia\n"
     ]
    }
   ],
   "source": [
    "text_string = text_string.replace(\".\", \"\")\n",
    "text_string = text_string.replace(\",\", \"\")\n",
    "text_string = text_string.replace(\"'\", \"\")\n",
    "text_string = text_string.replace(\"\\n\", \"\")\n",
    "\n",
    "print(text_string)"
   ]
  },
  {
   "cell_type": "markdown",
   "metadata": {},
   "source": [
    "# Fonctions"
   ]
  },
  {
   "cell_type": "code",
   "execution_count": 9,
   "metadata": {},
   "outputs": [
    {
     "data": {
      "text/plain": [
       "'Python est incroyable'"
      ]
     },
     "execution_count": 9,
     "metadata": {},
     "output_type": "execute_result"
    }
   ],
   "source": [
    "# def nom_fonction(arg):\n",
    "    # code\n",
    "    \n",
    "def clean_value(string_value):\n",
    "    cleaned_value = string_value.replace(\",\", \" \")\n",
    "    return cleaned_value \n",
    "\n",
    "sentence = \"Python,est,incroyable\"\n",
    "sentence = clean_value(sentence)\n",
    "sentence"
   ]
  },
  {
   "cell_type": "code",
   "execution_count": 10,
   "metadata": {},
   "outputs": [
    {
     "name": "stdout",
     "output_type": "stream",
     "text": [
      "En termes généraux la scence des données est lextraction de conaissance densembles de données    Elle emploie des techniques et des théories tirées de plusieurs autres domaines plus larges des mathématiques la statistique principalement la téorie de linformation et la technologie de linformation notamment le traitement de signal des modèles probabilistes lapprentissage automatique lapprentissage statistiqe la programmation informatique lingénierie de données la reconnaissance de formes et lapprentissage la visualisation lanalytique prophétique la modélisation dincertitude le stokage de données la compression de données et le calcul à haute performance  Les méthodes qui sadaptent aux données de masse sont particulièrement intéressantes dans la science des données bien que la dicipline ne soit généralement pas considérée come limitée à ces données    Le premier objectif est de produire des méthodes automatisées autant que possible de tri et danalyse de données de masse et de sources plus ou moins complexes ou disjointes de données afin den extraire des informations utiles ou potentiellement utiles Source Wikipédia\n"
     ]
    }
   ],
   "source": [
    "def clean_text(string_value):\n",
    "    string_value = string_value.replace(\".\", \"\")\n",
    "    string_value = string_value.replace(\",\", \"\")\n",
    "    string_value = string_value.replace(\"'\", \"\")\n",
    "    string_value = string_value.replace(\"\\n\", \"\")\n",
    "    return string_value\n",
    "\n",
    "cleaned_text = clean_text(text_string)\n",
    "\n",
    "print(cleaned_text)"
   ]
  },
  {
   "cell_type": "markdown",
   "metadata": {},
   "source": [
    "# Changer les majuscules en minuscules"
   ]
  },
  {
   "cell_type": "code",
   "execution_count": 11,
   "metadata": {},
   "outputs": [
    {
     "name": "stdout",
     "output_type": "stream",
     "text": [
      "zinedine zizou\n"
     ]
    }
   ],
   "source": [
    "# lower()\n",
    "\n",
    "words = \"ZineDine ZIZOU\"\n",
    "\n",
    "\n",
    "lower_words = words.lower()\n",
    "\n",
    "print(lower_words)"
   ]
  },
  {
   "cell_type": "code",
   "execution_count": 12,
   "metadata": {},
   "outputs": [
    {
     "data": {
      "text/plain": [
       "'ZINEDINE ZIZOU'"
      ]
     },
     "execution_count": 12,
     "metadata": {},
     "output_type": "execute_result"
    }
   ],
   "source": [
    "# upper()\n",
    "\n",
    "lower_words.upper()"
   ]
  },
  {
   "cell_type": "markdown",
   "metadata": {},
   "source": [
    "# Arguments multiples"
   ]
  },
  {
   "cell_type": "code",
   "execution_count": 13,
   "metadata": {},
   "outputs": [],
   "source": [
    "# Permet d'appliquer à des fonctions de multiples cas"
   ]
  },
  {
   "cell_type": "code",
   "execution_count": 14,
   "metadata": {},
   "outputs": [
    {
     "name": "stdout",
     "output_type": "stream",
     "text": [
      "GOAL\n"
     ]
    }
   ],
   "source": [
    "def clean_string(string, change_string):\n",
    "    replacement_string = \"\"\n",
    "    cleaned_string = string.replace(change_string, replacement_string)\n",
    "    return(cleaned_string)\n",
    "\n",
    "goal = clean_string(\"GOAL!!!!!!!!!\", \"!\")\n",
    "\n",
    "print(goal)"
   ]
  },
  {
   "cell_type": "code",
   "execution_count": 15,
   "metadata": {},
   "outputs": [
    {
     "name": "stdout",
     "output_type": "stream",
     "text": [
      "GOOOOOAAALLLLL!!!!!!!!!\n"
     ]
    }
   ],
   "source": [
    "def modify_text(text_string, modify_string, replacement_string):\n",
    "    cleaned_string = text_string.replace(modify_string, replacement_string)\n",
    "    return(cleaned_string)\n",
    "\n",
    "goal = modify_text(\"GOOOOOAAALLLLL.........\", \".\", \"!\")\n",
    "\n",
    "print(goal)"
   ]
  },
  {
   "cell_type": "markdown",
   "metadata": {},
   "source": [
    "## Training"
   ]
  },
  {
   "cell_type": "code",
   "execution_count": 16,
   "metadata": {},
   "outputs": [
    {
     "name": "stdout",
     "output_type": "stream",
     "text": [
      "en termes généraux la scence des données est lextraction de conaissance densembles de données    elle emploie des techniques et des théories tirées de plusieurs autres domaines plus larges des mathématiques la statistique principalement la téorie de linformation et la technologie de linformation notamment le traitement de signal des modèles probabilistes lapprentissage automatique lapprentissage statistiqe la programmation informatique lingénierie de données la reconnaissance de formes et lapprentissage la visualisation lanalytique prophétique la modélisation dincertitude le stokage de données la compression de données et le calcul à haute performance  les méthodes qui sadaptent aux données de masse sont particulièrement intéressantes dans la science des données bien que la dicipline ne soit généralement pas considérée come limitée à ces données    le premier objectif est de produire des méthodes automatisées autant que possible de tri et danalyse de données de masse et de sources plus ou moins complexes ou disjointes de données afin den extraire des informations utiles ou potentiellement utiles source wikipédia\n"
     ]
    }
   ],
   "source": [
    "def clean_text(text_string, special_characters, replacement_string):\n",
    "    cleaned_string = text_string\n",
    "    \n",
    "    for string in special_characters:\n",
    "        cleaned_string = cleaned_string.replace(string, replacement_string)\n",
    "        \n",
    "    cleaned_string = cleaned_string.lower()\n",
    "    \n",
    "    return(cleaned_string)\n",
    "\n",
    "clean_characters = [\".\", \",\", \"'\", \"\\n\"]\n",
    "replacement = \"\"\n",
    "\n",
    "cleaned_text = clean_text(text_string, clean_characters, replacement)\n",
    "\n",
    "print(cleaned_text)\n",
    "    "
   ]
  },
  {
   "cell_type": "markdown",
   "metadata": {},
   "source": [
    "# Tokenization du fichier texte"
   ]
  },
  {
   "cell_type": "markdown",
   "metadata": {},
   "source": [
    "## Training"
   ]
  },
  {
   "cell_type": "code",
   "execution_count": 18,
   "metadata": {},
   "outputs": [
    {
     "name": "stdout",
     "output_type": "stream",
     "text": [
      "['en', 'termes', 'généraux', 'la', 'scence', 'des', 'données', 'est', 'lextraction', 'de']\n"
     ]
    }
   ],
   "source": [
    "def tokenize(string, special_characters, replacement_string):\n",
    "    cleaned_text = clean_text(string, special_characters, replacement_string)\n",
    "    text_tokens = cleaned_text.split(\" \")\n",
    "    return(text_tokens)\n",
    "\n",
    "clean_characters = [\",\", \".\", \"'\", \"\\n\"]\n",
    "replacement = \"\"\n",
    "\n",
    "tokenized_text = tokenize(text_string, clean_characters, replacement)\n",
    "\n",
    "print(tokenized_text[0:10])"
   ]
  },
  {
   "cell_type": "markdown",
   "metadata": {},
   "source": [
    "## Trouver les mots mal orthographiés"
   ]
  },
  {
   "cell_type": "markdown",
   "metadata": {},
   "source": [
    "## Training"
   ]
  },
  {
   "cell_type": "code",
   "execution_count": 24,
   "metadata": {},
   "outputs": [
    {
     "name": "stdout",
     "output_type": "stream",
     "text": [
      "['scence', 'conaissance', '', '', '', 'téorie', 'statistiqe', 'stokage', '', 'dicipline', 'come', '', '', '']\n"
     ]
    }
   ],
   "source": [
    "misspelled_words = []\n",
    "\n",
    "for word in tokenized_text:\n",
    "    if word not in tokenized_vocabulary:\n",
    "        misspelled_words.append(word)\n",
    "        \n",
    "print(misspelled_words)"
   ]
  },
  {
   "cell_type": "code",
   "execution_count": null,
   "metadata": {},
   "outputs": [],
   "source": []
  }
 ],
 "metadata": {
  "kernelspec": {
   "display_name": "Python 3",
   "language": "python",
   "name": "python3"
  },
  "language_info": {
   "codemirror_mode": {
    "name": "ipython",
    "version": 3
   },
   "file_extension": ".py",
   "mimetype": "text/x-python",
   "name": "python",
   "nbconvert_exporter": "python",
   "pygments_lexer": "ipython3",
   "version": "3.6.4"
  }
 },
 "nbformat": 4,
 "nbformat_minor": 2
}
