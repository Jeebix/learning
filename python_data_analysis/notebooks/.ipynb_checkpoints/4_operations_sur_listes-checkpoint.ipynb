{
 "cells": [
  {
   "cell_type": "markdown",
   "metadata": {},
   "source": [
    "# Opérations sur les listes\n",
    "## Objectifs et dataset"
   ]
  },
  {
   "cell_type": "code",
   "execution_count": 6,
   "metadata": {},
   "outputs": [
    {
     "name": "stdout",
     "output_type": "stream",
     "text": [
      "[['Jour', 'Climat'], ['1', 'Soleil'], ['2', 'Soleil'], ['3', 'Soleil'], ['4', 'Soleil']]\n"
     ]
    }
   ],
   "source": [
    "# Récupération des données\n",
    "weather_data = []\n",
    "\n",
    "f = open('data/madrid-weather-2016.csv', 'r')\n",
    "data = f.read()\n",
    "\n",
    "rows = data.split('\\n')\n",
    "\n",
    "for row in rows:\n",
    "    split_row = row.split(',')\n",
    "    weather_data.append(split_row)\n",
    "    \n",
    "print(weather_data[0:5])"
   ]
  },
  {
   "cell_type": "code",
   "execution_count": 7,
   "metadata": {},
   "outputs": [
    {
     "name": "stdout",
     "output_type": "stream",
     "text": [
      "366\n"
     ]
    }
   ],
   "source": [
    "# Comptage nombre d'éléments\n",
    "count = 0\n",
    "\n",
    "for item in weather_data:\n",
    "    count += 1\n",
    "    \n",
    "print(count)"
   ]
  },
  {
   "cell_type": "markdown",
   "metadata": {},
   "source": [
    "## Supprimer l'en-tête"
   ]
  },
  {
   "cell_type": "code",
   "execution_count": 8,
   "metadata": {},
   "outputs": [
    {
     "name": "stdout",
     "output_type": "stream",
     "text": [
      "[['1', 'Soleil'], ['2', 'Soleil'], ['3', 'Soleil'], ['4', 'Soleil'], ['5', 'Soleil']]\n"
     ]
    }
   ],
   "source": [
    "new_weather = weather_data[1:366]\n",
    "\n",
    "print(new_weather[0:5])"
   ]
  },
  {
   "cell_type": "markdown",
   "metadata": {},
   "source": [
    "## Vérifier la présence d'un élément dans une liste en une ligne"
   ]
  },
  {
   "cell_type": "code",
   "execution_count": 9,
   "metadata": {},
   "outputs": [
    {
     "name": "stdout",
     "output_type": "stream",
     "text": [
      "Chien trouvé\n"
     ]
    }
   ],
   "source": [
    "animals = ['chien', 'lion', 'girafe']\n",
    "\n",
    "# avec boucle for\n",
    "for animal in animals:\n",
    "    if animal == 'chien':\n",
    "        print('Chien trouvé')"
   ]
  },
  {
   "cell_type": "code",
   "execution_count": 10,
   "metadata": {},
   "outputs": [
    {
     "name": "stdout",
     "output_type": "stream",
     "text": [
      "Chien trouvé !\n"
     ]
    }
   ],
   "source": [
    "# avec in\n",
    "if \"chien\" in animals:\n",
    "    print(\"Chien trouvé !\")"
   ]
  },
  {
   "cell_type": "code",
   "execution_count": 11,
   "metadata": {},
   "outputs": [
    {
     "name": "stdout",
     "output_type": "stream",
     "text": [
      "True\n",
      "False\n"
     ]
    }
   ],
   "source": [
    "dog_found = \"chien\" in animals\n",
    "cat_found = \"chat\" in animals\n",
    "\n",
    "print(dog_found)\n",
    "print(cat_found)"
   ]
  },
  {
   "cell_type": "code",
   "execution_count": 12,
   "metadata": {},
   "outputs": [
    {
     "name": "stdout",
     "output_type": "stream",
     "text": [
      "['Soleil', 'Soleil', 'Soleil', 'Soleil', 'Soleil']\n"
     ]
    }
   ],
   "source": [
    "weather = []\n",
    "\n",
    "for row in new_weather:\n",
    "    weather.append(row[1])\n",
    "    \n",
    "print(weather[0:5])"
   ]
  },
  {
   "cell_type": "markdown",
   "metadata": {},
   "source": [
    "## Training"
   ]
  },
  {
   "cell_type": "code",
   "execution_count": 14,
   "metadata": {},
   "outputs": [
    {
     "name": "stdout",
     "output_type": "stream",
     "text": [
      "['Pluie', 'Soleil', 'Nuage', 'Nuage-Pluie']\n"
     ]
    }
   ],
   "source": [
    "weather_types = [\"Pluie\", \"Soleil\", \"Nuage\", \"Nuage-Pluie\", \"Climat\"]\n",
    "weather_types_found = []\n",
    "\n",
    "for item in weather_types:\n",
    "    if item in weather:\n",
    "        weather_types_found.append(item)\n",
    "        \n",
    "print(weather_types_found)"
   ]
  },
  {
   "cell_type": "code",
   "execution_count": 17,
   "metadata": {},
   "outputs": [
    {
     "name": "stdout",
     "output_type": "stream",
     "text": [
      "[True, True, True, True, False]\n"
     ]
    }
   ],
   "source": [
    "weather_types_bool = []\n",
    "\n",
    "for item in weather_types:\n",
    "    found = item in weather\n",
    "    weather_types_bool.append(found)\n",
    "        \n",
    "print(weather_types_bool)"
   ]
  },
  {
   "cell_type": "code",
   "execution_count": null,
   "metadata": {},
   "outputs": [],
   "source": []
  }
 ],
 "metadata": {
  "kernelspec": {
   "display_name": "Python 3",
   "language": "python",
   "name": "python3"
  },
  "language_info": {
   "codemirror_mode": {
    "name": "ipython",
    "version": 3
   },
   "file_extension": ".py",
   "mimetype": "text/x-python",
   "name": "python",
   "nbconvert_exporter": "python",
   "pygments_lexer": "ipython3",
   "version": "3.6.4"
  }
 },
 "nbformat": 4,
 "nbformat_minor": 2
}
