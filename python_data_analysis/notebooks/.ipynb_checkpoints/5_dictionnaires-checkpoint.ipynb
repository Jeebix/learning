{
 "cells": [
  {
   "cell_type": "markdown",
   "metadata": {},
   "source": [
    "# Les dictionnaires\n",
    "## Qu'est-ce qu'un dictionnaire ?"
   ]
  },
  {
   "cell_type": "code",
   "execution_count": 3,
   "metadata": {},
   "outputs": [
    {
     "name": "stdout",
     "output_type": "stream",
     "text": [
      "17\n"
     ]
    }
   ],
   "source": [
    "# Exemple pour récupérer moyenne de Sarah\n",
    "students = [\"Thomas\", \"Matt\", \"Sarah\", \"Nina\"]\n",
    "scores = [16, 15, 17, 14]\n",
    "\n",
    "index = [0, 1, 2, 3]\n",
    "name  = \"Sarah\"\n",
    "score = 0\n",
    "\n",
    "for i in index:\n",
    "    if students[i] == name:\n",
    "        score = scores[i]\n",
    "        \n",
    "print(score)\n",
    "# Lourd comme requête"
   ]
  },
  {
   "cell_type": "code",
   "execution_count": 4,
   "metadata": {},
   "outputs": [],
   "source": [
    "# Liste à une valeur pour chaque index numérique\n",
    "# dictionnaire à comme index une chaîne de caractères"
   ]
  },
  {
   "cell_type": "code",
   "execution_count": 5,
   "metadata": {},
   "outputs": [],
   "source": [
    "scores = {} # dictionnaire vide"
   ]
  },
  {
   "cell_type": "code",
   "execution_count": 6,
   "metadata": {},
   "outputs": [],
   "source": [
    "scores[\"Nina\"] = 14"
   ]
  },
  {
   "cell_type": "code",
   "execution_count": 7,
   "metadata": {},
   "outputs": [
    {
     "name": "stdout",
     "output_type": "stream",
     "text": [
      "{'Nina': 14}\n"
     ]
    }
   ],
   "source": [
    "print(scores)"
   ]
  },
  {
   "cell_type": "code",
   "execution_count": 8,
   "metadata": {},
   "outputs": [],
   "source": [
    "scores[\"Thomas\"] = 16\n",
    "scores[\"Sarah\"]  = 17\n",
    "scores[\"Matt\"]   = 15"
   ]
  },
  {
   "cell_type": "code",
   "execution_count": 9,
   "metadata": {},
   "outputs": [
    {
     "name": "stdout",
     "output_type": "stream",
     "text": [
      "{'Nina': 14, 'Thomas': 16, 'Sarah': 17, 'Matt': 15}\n"
     ]
    }
   ],
   "source": [
    "print(scores)"
   ]
  },
  {
   "cell_type": "code",
   "execution_count": 10,
   "metadata": {},
   "outputs": [],
   "source": [
    "animals = {\"poules\": 120, \"chèvres\": 46, \"chevaux\": 23, \"vache\": 55}"
   ]
  },
  {
   "cell_type": "code",
   "execution_count": 14,
   "metadata": {},
   "outputs": [
    {
     "data": {
      "text/plain": [
       "{'chevaux': 23, 'chèvres': 46, 'poules': 110, 'vache': 55}"
      ]
     },
     "execution_count": 14,
     "metadata": {},
     "output_type": "execute_result"
    }
   ],
   "source": [
    "animals\n",
    "# ordre changé par Python"
   ]
  },
  {
   "cell_type": "code",
   "execution_count": 15,
   "metadata": {},
   "outputs": [],
   "source": [
    "animals['poules'] = 110"
   ]
  },
  {
   "cell_type": "code",
   "execution_count": 16,
   "metadata": {},
   "outputs": [
    {
     "data": {
      "text/plain": [
       "{'chevaux': 23, 'chèvres': 46, 'poules': 110, 'vache': 55}"
      ]
     },
     "execution_count": 16,
     "metadata": {},
     "output_type": "execute_result"
    }
   ],
   "source": [
    "animals"
   ]
  },
  {
   "cell_type": "code",
   "execution_count": 17,
   "metadata": {},
   "outputs": [],
   "source": [
    "animals['chevaux'] = animals['chevaux'] + 5"
   ]
  },
  {
   "cell_type": "code",
   "execution_count": 18,
   "metadata": {},
   "outputs": [
    {
     "data": {
      "text/plain": [
       "{'chevaux': 28, 'chèvres': 46, 'poules': 110, 'vache': 55}"
      ]
     },
     "execution_count": 18,
     "metadata": {},
     "output_type": "execute_result"
    }
   ],
   "source": [
    "animals"
   ]
  },
  {
   "cell_type": "markdown",
   "metadata": {},
   "source": [
    "## Training"
   ]
  },
  {
   "cell_type": "code",
   "execution_count": 19,
   "metadata": {},
   "outputs": [],
   "source": [
    "scores[\"Marie\"] = 15"
   ]
  },
  {
   "cell_type": "code",
   "execution_count": 20,
   "metadata": {},
   "outputs": [
    {
     "data": {
      "text/plain": [
       "{'Marie': 15, 'Matt': 15, 'Nina': 14, 'Sarah': 17, 'Thomas': 16}"
      ]
     },
     "execution_count": 20,
     "metadata": {},
     "output_type": "execute_result"
    }
   ],
   "source": [
    "scores"
   ]
  },
  {
   "cell_type": "code",
   "execution_count": 21,
   "metadata": {},
   "outputs": [],
   "source": [
    "scores[\"Nina\"] += 2"
   ]
  },
  {
   "cell_type": "code",
   "execution_count": 22,
   "metadata": {},
   "outputs": [
    {
     "data": {
      "text/plain": [
       "{'Marie': 15, 'Matt': 15, 'Nina': 16, 'Sarah': 17, 'Thomas': 16}"
      ]
     },
     "execution_count": 22,
     "metadata": {},
     "output_type": "execute_result"
    }
   ],
   "source": [
    "scores"
   ]
  },
  {
   "cell_type": "code",
   "execution_count": 23,
   "metadata": {},
   "outputs": [],
   "source": [
    "scores[\"Thomas\"] = 10"
   ]
  },
  {
   "cell_type": "code",
   "execution_count": 24,
   "metadata": {},
   "outputs": [
    {
     "data": {
      "text/plain": [
       "{'Marie': 15, 'Matt': 15, 'Nina': 16, 'Sarah': 17, 'Thomas': 10}"
      ]
     },
     "execution_count": 24,
     "metadata": {},
     "output_type": "execute_result"
    }
   ],
   "source": [
    "scores"
   ]
  },
  {
   "cell_type": "code",
   "execution_count": 29,
   "metadata": {},
   "outputs": [
    {
     "name": "stdout",
     "output_type": "stream",
     "text": [
      "True\n",
      "False\n"
     ]
    }
   ],
   "source": [
    "matt_found = \"Matt\" in scores\n",
    "tom_found  = \"Tom\" in scores\n",
    "      \n",
    "print(matt_found)\n",
    "print(tom_found)"
   ]
  },
  {
   "cell_type": "markdown",
   "metadata": {},
   "source": [
    "## La condition if / else"
   ]
  },
  {
   "cell_type": "code",
   "execution_count": 30,
   "metadata": {},
   "outputs": [
    {
     "name": "stdout",
     "output_type": "stream",
     "text": [
      "Il fait chaud !\n"
     ]
    }
   ],
   "source": [
    "temperature = 50\n",
    "\n",
    "if temperature > 40:\n",
    "    print(\"Il fait chaud !\")\n",
    "if temperature <= 40:\n",
    "    print(\"Il fait froid...\")"
   ]
  },
  {
   "cell_type": "code",
   "execution_count": 31,
   "metadata": {},
   "outputs": [
    {
     "name": "stdout",
     "output_type": "stream",
     "text": [
      "il fait froid...\n"
     ]
    }
   ],
   "source": [
    "temperature = 10\n",
    "\n",
    "if temperature > 40:\n",
    "    print(\"Il fait chaud !\")\n",
    "else:\n",
    "    print(\"il fait froid...\")"
   ]
  },
  {
   "cell_type": "code",
   "execution_count": 32,
   "metadata": {},
   "outputs": [
    {
     "name": "stdout",
     "output_type": "stream",
     "text": [
      "[50]\n",
      "[20, 10, 35]\n"
     ]
    }
   ],
   "source": [
    "temperatures = [50, 20, 10, 35]\n",
    "\n",
    "high_temperatures = []\n",
    "low_temperatures  = []\n",
    "\n",
    "for temperature in temperatures:\n",
    "    if temperature > 40:\n",
    "        high_temperatures.append(temperature)\n",
    "    else:\n",
    "        low_temperatures.append(temperature)\n",
    "        \n",
    "print(high_temperatures)\n",
    "print(low_temperatures)"
   ]
  },
  {
   "cell_type": "markdown",
   "metadata": {},
   "source": [
    "## Training"
   ]
  },
  {
   "cell_type": "code",
   "execution_count": 35,
   "metadata": {},
   "outputs": [
    {
     "name": "stdout",
     "output_type": "stream",
     "text": [
      "['Mercure', 'Jupiter', 'Saturne', 'Neptune', 'Uranus']\n",
      "['Vénus', 'Terre', 'Mars']\n"
     ]
    }
   ],
   "source": [
    "planet_names = [\"Mercure\", \"Vénus\", \"Terre\", \"Mars\", \"Jupiter\", \"Saturne\", \"Neptune\", \"Uranus\"]\n",
    "\n",
    "long_names  = []\n",
    "short_names = []\n",
    "\n",
    "for planet in planet_names:\n",
    "     if len(planet) > 5:\n",
    "        long_names.append(planet)\n",
    "     else:\n",
    "        short_names.append(planet)\n",
    "        \n",
    "print(long_names)\n",
    "print(short_names)    "
   ]
  },
  {
   "cell_type": "markdown",
   "metadata": {},
   "source": [
    "## Compter les éléments d'une liste et présenter les résultats dans un dictionnaire"
   ]
  },
  {
   "cell_type": "code",
   "execution_count": 36,
   "metadata": {},
   "outputs": [
    {
     "name": "stdout",
     "output_type": "stream",
     "text": [
      "{'Citron': 1, 'Banane': 3, 'Pomme': 4}\n"
     ]
    }
   ],
   "source": [
    "fruits = [\"Citron\", \"Banane\", \"Pomme\", \"Pomme\", \"Pomme\", \"Banane\", \"Banane\", \"Pomme\"]\n",
    "\n",
    "fruits_count = {}\n",
    "\n",
    "for item in fruits:\n",
    "    if item in fruits_count: # si présent on ajoute 1\n",
    "        fruits_count[item] += 1\n",
    "    else:\n",
    "        fruits_count[item] = 1\n",
    "        \n",
    "print(fruits_count)"
   ]
  },
  {
   "cell_type": "markdown",
   "metadata": {},
   "source": [
    "## Training"
   ]
  },
  {
   "cell_type": "code",
   "execution_count": 63,
   "metadata": {},
   "outputs": [
    {
     "data": {
      "text/plain": [
       "['1,Soleil', '2,Soleil', '3,Soleil', '4,Soleil', '5,Soleil']"
      ]
     },
     "execution_count": 63,
     "metadata": {},
     "output_type": "execute_result"
    }
   ],
   "source": [
    "f = open(\"../data/madrid-weather-2016.csv\", \"r\")\n",
    "data = f.read()\n",
    "weather_data = data.split('\\n')\n",
    "\n",
    "new_weather_data = weather_data[1:len(weather_data)]\n",
    "\n",
    "new_weather_data[0:5]"
   ]
  },
  {
   "cell_type": "code",
   "execution_count": 65,
   "metadata": {},
   "outputs": [
    {
     "name": "stdout",
     "output_type": "stream",
     "text": [
      "['Soleil', 'Soleil', 'Soleil', 'Soleil', 'Soleil']\n"
     ]
    }
   ],
   "source": [
    "weather = []\n",
    "\n",
    "for item in new_weather_data:\n",
    "    temp_weather = item.split(',')[1]\n",
    "    weather.append(temp_weather)\n",
    "    \n",
    "print(weather[0:5])"
   ]
  },
  {
   "cell_type": "code",
   "execution_count": 66,
   "metadata": {},
   "outputs": [
    {
     "name": "stdout",
     "output_type": "stream",
     "text": [
      "{'Soleil': 210, 'Pluie': 25, 'Nuage': 125, 'Nuage-Pluie': 4, 'Orage': 1}\n"
     ]
    }
   ],
   "source": [
    "weather_counts = {}\n",
    "\n",
    "for item in weather:\n",
    "    # si déjà présent\n",
    "    if item in weather_counts:\n",
    "        weather_counts[item] += 1\n",
    "    else:\n",
    "        weather_counts[item] = 1\n",
    "        \n",
    "print(weather_counts)"
   ]
  },
  {
   "cell_type": "code",
   "execution_count": null,
   "metadata": {},
   "outputs": [],
   "source": []
  }
 ],
 "metadata": {
  "kernelspec": {
   "display_name": "Python 3",
   "language": "python",
   "name": "python3"
  },
  "language_info": {
   "codemirror_mode": {
    "name": "ipython",
    "version": 3
   },
   "file_extension": ".py",
   "mimetype": "text/x-python",
   "name": "python",
   "nbconvert_exporter": "python",
   "pygments_lexer": "ipython3",
   "version": "3.6.4"
  }
 },
 "nbformat": 4,
 "nbformat_minor": 2
}
