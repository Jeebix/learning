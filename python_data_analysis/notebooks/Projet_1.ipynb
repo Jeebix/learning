{
 "cells": [
  {
   "cell_type": "markdown",
   "metadata": {},
   "source": [
    "# Projet : Explorer les naissances aux US depuis 2000\n",
    "## 1. Introduction au dataset"
   ]
  },
  {
   "cell_type": "code",
   "execution_count": 4,
   "metadata": {},
   "outputs": [
    {
     "name": "stdout",
     "output_type": "stream",
     "text": [
      "['year,month,date_of_month,day_of_week,births', '2000,1,1,6,9083', '2000,1,2,7,8006', '2000,1,3,1,11363', '2000,1,4,2,13032', '2000,1,5,3,12558', '2000,1,6,4,12466', '2000,1,7,5,12516', '2000,1,8,6,8934', '2000,1,9,7,7949']\n"
     ]
    }
   ],
   "source": [
    "f = open(\"../data/US-births-2000-2014.csv\", \"r\", encoding='utf-8')\n",
    "US_births = f.read()\n",
    "\n",
    "births_split = US_births.split(\"\\n\")\n",
    "\n",
    "print(births_split[:10])"
   ]
  },
  {
   "cell_type": "markdown",
   "metadata": {},
   "source": [
    "## 2. Convertir la data en liste de listes"
   ]
  },
  {
   "cell_type": "code",
   "execution_count": 14,
   "metadata": {},
   "outputs": [
    {
     "name": "stdout",
     "output_type": "stream",
     "text": [
      "[[2000, 1, 1, 6, 9083], [2000, 1, 2, 7, 8006], [2000, 1, 3, 1, 11363], [2000, 1, 4, 2, 13032], [2000, 1, 5, 3, 12558], [2000, 1, 6, 4, 12466], [2000, 1, 7, 5, 12516], [2000, 1, 8, 6, 8934], [2000, 1, 9, 7, 7949], [2000, 1, 10, 1, 11668]]\n"
     ]
    }
   ],
   "source": [
    "def read_csv(csv_file):\n",
    "    f = open(csv_file, \"r\", encoding='utf-8')\n",
    "    string_list = f.read()\n",
    "    string_list = string_list.split(\"\\n\")\n",
    "    string_list = string_list[1:]\n",
    "    \n",
    "    final_list = []\n",
    "\n",
    "    for row in string_list:\n",
    "        int_fields = []\n",
    "        string_fields = row.split(',')\n",
    "        for row in string_fields:\n",
    "            int_fields.append(int(row))\n",
    "        final_list.append(int_fields)\n",
    "            \n",
    "    return(final_list)\n",
    "\n",
    "us_births_list = read_csv(csv_file = \"../data/US-births-2000-2014.csv\")\n",
    "print(us_births_list[:10])"
   ]
  },
  {
   "cell_type": "markdown",
   "metadata": {},
   "source": [
    "## Calculer le nombre de naissance par mois"
   ]
  },
  {
   "cell_type": "code",
   "execution_count": 15,
   "metadata": {},
   "outputs": [
    {
     "name": "stdout",
     "output_type": "stream",
     "text": [
      "{1: 5072588, 2: 4725693, 3: 5172961, 4: 4960750, 5: 5195445, 6: 5163360, 7: 5450418, 8: 5540170, 9: 5399592, 10: 5302865, 11: 5008750, 12: 5194432}\n"
     ]
    }
   ],
   "source": [
    "def month_births(births_list):\n",
    "    births_count = {}\n",
    "    \n",
    "    for item in births_list:\n",
    "        month = item[1]\n",
    "        births = item[4]\n",
    "        if month in births_count:\n",
    "            births_count[month] += births\n",
    "        else:\n",
    "            births_count[month] = births\n",
    "            \n",
    "    return births_count\n",
    "\n",
    "us_month_births = month_births(us_births_list)\n",
    "print(us_month_births)"
   ]
  },
  {
   "cell_type": "markdown",
   "metadata": {},
   "source": [
    "## Calculer le nombre de naissances par jour de la semaine"
   ]
  },
  {
   "cell_type": "code",
   "execution_count": 23,
   "metadata": {},
   "outputs": [
    {
     "name": "stdout",
     "output_type": "stream",
     "text": [
      "{6: 6704495, 7: 5886889, 1: 9316001, 2: 10274874, 3: 10109130, 4: 10045436, 5: 9850199}\n"
     ]
    }
   ],
   "source": [
    "def day_births(births_list):\n",
    "    births_count = {}\n",
    "    \n",
    "    for item in births_list:\n",
    "        day = item[3]\n",
    "        births = item[4]\n",
    "        if day in births_count:\n",
    "            births_count[day] += births\n",
    "        else:\n",
    "            births_count[day] = births\n",
    "            \n",
    "    return births_count\n",
    "\n",
    "us_days_births = day_births(us_births_list)\n",
    "print(us_days_births)"
   ]
  },
  {
   "cell_type": "markdown",
   "metadata": {},
   "source": [
    "## Créer une fonction plus générale"
   ]
  },
  {
   "cell_type": "code",
   "execution_count": 28,
   "metadata": {},
   "outputs": [
    {
     "name": "stdout",
     "output_type": "stream",
     "text": [
      "{2000: 4149598, 2001: 4110963, 2002: 4099313, 2003: 4163060, 2004: 4186863, 2005: 4211941, 2006: 4335154, 2007: 4380784, 2008: 4310737, 2009: 4190991, 2010: 4055975, 2011: 4006908, 2012: 4000868, 2013: 3973337, 2014: 4010532}\n"
     ]
    }
   ],
   "source": [
    "def calc_counts(births_list, type_of_sort):\n",
    "    births_count = {}\n",
    "    \n",
    "    for item in births_list:\n",
    "        births = item[4]\n",
    "        \n",
    "        if type_of_sort == 0:\n",
    "            filter_wish = item[0]\n",
    "        elif type_of_sort == 1:\n",
    "            filter_wish = item[1]\n",
    "        elif type_of_sort == 2:\n",
    "            filter_wish = item[2]\n",
    "        elif type_of_sort == 3:\n",
    "            filter_wish = item[3]\n",
    "            \n",
    "        if filter_wish in births_count:\n",
    "            births_count[filter_wish] += births\n",
    "        else:\n",
    "            births_count[filter_wish] = births\n",
    "            \n",
    "    return births_count\n",
    "        \n",
    "us_year_births = calc_counts(us_births_list, 0)\n",
    "print(us_year_births)"
   ]
  },
  {
   "cell_type": "code",
   "execution_count": null,
   "metadata": {},
   "outputs": [],
   "source": []
  }
 ],
 "metadata": {
  "kernelspec": {
   "display_name": "Python 3",
   "language": "python",
   "name": "python3"
  },
  "language_info": {
   "codemirror_mode": {
    "name": "ipython",
    "version": 3
   },
   "file_extension": ".py",
   "mimetype": "text/x-python",
   "name": "python",
   "nbconvert_exporter": "python",
   "pygments_lexer": "ipython3",
   "version": "3.6.4"
  }
 },
 "nbformat": 4,
 "nbformat_minor": 2
}
