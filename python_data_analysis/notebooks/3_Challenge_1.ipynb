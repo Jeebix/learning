{
 "cells": [
  {
   "cell_type": "markdown",
   "metadata": {},
   "source": [
    "# Challenge 1"
   ]
  },
  {
   "cell_type": "code",
   "execution_count": 29,
   "metadata": {},
   "outputs": [
    {
     "name": "stdout",
     "output_type": "stream",
     "text": [
      "<_io.TextIOWrapper name='unisex-names.csv' mode='r' encoding='UTF-8'>\n"
     ]
    }
   ],
   "source": [
    "f = open(\"unisex-names.csv\", \"r\", encoding=\"UTF-8\")\n",
    "\n",
    "print(f)"
   ]
  },
  {
   "cell_type": "code",
   "execution_count": 30,
   "metadata": {},
   "outputs": [],
   "source": [
    "names = f.read()"
   ]
  },
  {
   "cell_type": "code",
   "execution_count": 32,
   "metadata": {},
   "outputs": [
    {
     "name": "stdout",
     "output_type": "stream",
     "text": [
      "['Casey,176544.328149', 'Riley,154860.665173', 'Jessie,136381.830656', 'Jackie,132928.78874', 'Avery,121797.419516', 'Jaime,109870.18729', 'Peyton,94896.395216', 'Kerry,88963.92625', 'Jody,80400.519199', 'Kendall,79210.873961']\n"
     ]
    }
   ],
   "source": [
    "names_list = names.split('\\n')\n",
    "\n",
    "print(names_list[0:10])"
   ]
  },
  {
   "cell_type": "code",
   "execution_count": 26,
   "metadata": {},
   "outputs": [
    {
     "name": "stdout",
     "output_type": "stream",
     "text": [
      "[['Casey', '176544.328149'], ['Riley', '154860.665173'], ['Jessie', '136381.830656'], ['Jackie', '132928.78874'], ['Avery', '121797.419516'], ['Jaime', '109870.18729'], ['Peyton', '94896.395216'], ['Kerry', '88963.92625'], ['Jody', '80400.519199'], ['Kendall', '79210.873961']]\n"
     ]
    }
   ],
   "source": [
    "names_data = []\n",
    "\n",
    "for name in names_list:\n",
    "    data_list = name.split(',')\n",
    "    names_data.append(data_list)\n",
    "    \n",
    "print(names_data[0:10])\n",
    "    "
   ]
  },
  {
   "cell_type": "code",
   "execution_count": 35,
   "metadata": {},
   "outputs": [
    {
     "name": "stdout",
     "output_type": "stream",
     "text": [
      "[['Casey', 176544.328149], ['Riley', 154860.665173], ['Jessie', 136381.830656], ['Jackie', 132928.78874], ['Avery', 121797.419516]]\n"
     ]
    }
   ],
   "source": [
    "numerical_list = []\n",
    "\n",
    "for row in names_data:\n",
    "    name  = row[0]\n",
    "    count = float(row[1])\n",
    "    new_list = [name, count]\n",
    "    numerical_list.append(new_list)\n",
    "    \n",
    "print(numerical_list[0:5])"
   ]
  },
  {
   "cell_type": "code",
   "execution_count": 36,
   "metadata": {},
   "outputs": [
    {
     "name": "stdout",
     "output_type": "stream",
     "text": [
      "['Casey', 'Riley', 'Jessie', 'Jackie', 'Avery', 'Jaime', 'Peyton', 'Kerry', 'Jody', 'Kendall']\n"
     ]
    }
   ],
   "source": [
    "final_list = []\n",
    "\n",
    "for row in numerical_list:\n",
    "    name  = row[0]\n",
    "    count = row[1]\n",
    "    if count >= 1000:\n",
    "        final_list.append(name)\n",
    "        \n",
    "print(final_list[0:10])"
   ]
  },
  {
   "cell_type": "code",
   "execution_count": null,
   "metadata": {},
   "outputs": [],
   "source": []
  }
 ],
 "metadata": {
  "kernelspec": {
   "display_name": "Python 3",
   "language": "python",
   "name": "python3"
  },
  "language_info": {
   "codemirror_mode": {
    "name": "ipython",
    "version": 3
   },
   "file_extension": ".py",
   "mimetype": "text/x-python",
   "name": "python",
   "nbconvert_exporter": "python",
   "pygments_lexer": "ipython3",
   "version": "3.6.4"
  }
 },
 "nbformat": 4,
 "nbformat_minor": 2
}
